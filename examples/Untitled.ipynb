{
 "cells": [
  {
   "cell_type": "code",
   "execution_count": 1,
   "metadata": {},
   "outputs": [],
   "source": []
  },
  {
   "cell_type": "code",
   "execution_count": 1,
   "metadata": {},
   "outputs": [
    {
     "name": "stdout",
     "output_type": "stream",
     "text": [
      "5.0 25.0 10.0\n"
     ]
    }
   ],
   "source": [
    "import yodf as tf\n",
    "x = tf.Variable(5.0)\n",
    "cost = x**2\n",
    "with tf.Session() as s:\n",
    "    # global_variables_initializer API added just so as to\n",
    "    # resemble Tensorflow, it hardly does anything\n",
    "    s.run(tf.global_variables_initializer())\n",
    "    s.run(cost)\n",
    "print(x.value, cost.value, cost.gradient)"
   ]
  },
  {
   "cell_type": "code",
   "execution_count": 57,
   "metadata": {},
   "outputs": [
    {
     "name": "stdout",
     "output_type": "stream",
     "text": [
      "Minima: 0.0000000000 x at minima: 0.0000000000\n"
     ]
    }
   ],
   "source": [
    "import yodf as tf\n",
    "x = tf.Variable(5.0)\n",
    "cost = x**2\n",
    "train = tf.train.GradientDescentOptimizer(learning_rate=0.2).minimize(cost)\n",
    "with tf.Session() as s:\n",
    "    s.run(tf.global_variables_initializer())\n",
    "    for _ in range(50):\n",
    "        _, cost_final, x_final = s.run([train, x, cost])\n",
    "print(f\"Minima: {cost_final:.10f} x at minima: {x_final:.10f}\")\n",
    "\n",
    "# Minima: 4.9 x at minima: 24.010000000000005\n"
   ]
  },
  {
   "cell_type": "code",
   "execution_count": 63,
   "metadata": {},
   "outputs": [
    {
     "name": "stdout",
     "output_type": "stream",
     "text": [
      "<yod.Tensor type=TensorType.INT, shape=(2, 2), operation='sin'>\n"
     ]
    }
   ],
   "source": [
    "import numpy as np\n",
    "x = tf.Variable(np.array([[1,1],[2,2]]))\n",
    "ff = tf.sin(x)\n",
    "print(ff)"
   ]
  },
  {
   "cell_type": "code",
   "execution_count": 3,
   "metadata": {},
   "outputs": [
    {
     "name": "stdout",
     "output_type": "stream",
     "text": [
      "5.0 5.0 150.0 85.0\n"
     ]
    }
   ],
   "source": [
    "import yodf as tf\n",
    "x1 = tf.Variable(5.0)\n",
    "x2 = tf.Variable(5.0)\n",
    "cost = x1**2 + x2**3\n",
    "with tf.Session() as s:\n",
    "    # global_variables_initializer API added just so as to\n",
    "    # resemble Tensorflow, it hardly does anything\n",
    "    s.run(tf.global_variables_initializer())\n",
    "    s.run(cost)\n",
    "print(x1.value, x2.value, cost.value, cost.gradient)"
   ]
  }
 ],
 "metadata": {
  "kernelspec": {
   "display_name": "Python 3",
   "language": "python",
   "name": "python3"
  },
  "language_info": {
   "codemirror_mode": {
    "name": "ipython",
    "version": 3
   },
   "file_extension": ".py",
   "mimetype": "text/x-python",
   "name": "python",
   "nbconvert_exporter": "python",
   "pygments_lexer": "ipython3",
   "version": "3.7.4"
  }
 },
 "nbformat": 4,
 "nbformat_minor": 2
}
