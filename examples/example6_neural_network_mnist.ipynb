{
 "cells": [
  {
   "cell_type": "code",
   "execution_count": 1,
   "metadata": {},
   "outputs": [],
   "source": [
    "## In this notebook we will try to solve MNIST digit classification problem.\n",
    "## Even with just 1 hidden units and 10 epochs, it takes around 30 seconds.\n",
    "## With 400 pixel values, even with 1 hidden unit, we are talking about (400 + 1 + 10 + 10)\n",
    "## independent variables. With 25 hidden units program just takes too much time to execute"
   ]
  },
  {
   "cell_type": "code",
   "execution_count": 5,
   "metadata": {},
   "outputs": [],
   "source": [
    "import numpy as np\n",
    "import yodf as tf\n",
    "import matplotlib.pyplot as plt\n",
    "from scipy.io import loadmat\n",
    "%matplotlib inline\n",
    "import time"
   ]
  },
  {
   "cell_type": "code",
   "execution_count": 6,
   "metadata": {},
   "outputs": [
    {
     "name": "stdout",
     "output_type": "stream",
     "text": [
      "(5000, 400) (5000, 10)\n"
     ]
    }
   ],
   "source": [
    "def to_categorical(y):\n",
    "    k_unique = np.unique(y)\n",
    "    k = len(np.unique(y))\n",
    "    class_map = {}\n",
    "    for i in range(k):\n",
    "        class_map[k_unique[i]] = i\n",
    "        \n",
    "    c = np.zeros((y.shape[0], k), dtype=np.int)\n",
    "    for i in range(y.shape[0]):\n",
    "        c[i][class_map[y[i][0]]] = 1\n",
    "    return c\n",
    "\n",
    "def random_initialize_weights(shape):\n",
    "    np.random.seed(100)\n",
    "    t = np.random.random(shape)\n",
    "    epsilon_init = 0.12\n",
    "    return t*2*epsilon_init - epsilon_init\n",
    "\n",
    "def sigmoid(x):\n",
    "    return 1/(1+np.e**-x)\n",
    "\n",
    "def predict(X, theta0, b0, theta1, b1):\n",
    "    X1 = sigmoid(X.dot(theta0) + b0)\n",
    "    h = sigmoid(X1.dot(theta1) + b1)\n",
    "    return h\n",
    "\n",
    "data = loadmat('ex4data1.mat')\n",
    "X = data['X']\n",
    "y_original = data['y']\n",
    "y = to_categorical(y_original)\n",
    "print(X.shape, y.shape)\n",
    "input_layer_size = 400\n",
    "hidden_layer_size = 1\n",
    "# number of output units\n",
    "K = 10"
   ]
  },
  {
   "cell_type": "code",
   "execution_count": 7,
   "metadata": {},
   "outputs": [
    {
     "name": "stdout",
     "output_type": "stream",
     "text": [
      "(5000, 400) (400, 1) (1, 1) (1, 10) (1, 10)\n",
      "Execution Time for epoch 1= 2.238 seconds.\n",
      "Execution Time for epoch 2= 2.192 seconds.\n",
      "Execution Time for epoch 3= 2.343 seconds.\n",
      "Execution Time for epoch 4= 2.194 seconds.\n",
      "Execution Time for epoch 5= 2.221 seconds.\n",
      "Execution Time for epoch 6= 2.221 seconds.\n",
      "Execution Time for epoch 7= 2.222 seconds.\n",
      "Execution Time for epoch 8= 2.219 seconds.\n",
      "Execution Time for epoch 9= 2.203 seconds.\n",
      "Execution Time for epoch 10= 2.198 seconds.\n",
      "Total Execution Time = 22.252 seconds.\n"
     ]
    },
    {
     "data": {
      "image/png": "[encoded data removed]",
      "text/plain": [
       "<Figure size 432x288 with 1 Axes>"
      ]
     },
     "metadata": {
      "needs_background": "light"
     },
     "output_type": "display_data"
    },
    {
     "name": "stdout",
     "output_type": "stream",
     "text": [
      "Accuracy 10.0\n",
      "10.863195489820855 0.25081486875221193 -8.97097119831306 -11.616885840551852\n"
     ]
    }
   ],
   "source": [
    "m = X.shape[0]\n",
    "\n",
    "W0 = random_initialize_weights((input_layer_size, hidden_layer_size))\n",
    "B0 = random_initialize_weights((1, hidden_layer_size))\n",
    "W1 = random_initialize_weights((hidden_layer_size, K))\n",
    "B1 = random_initialize_weights((1, K))\n",
    "\n",
    "print(X.shape, W0.shape, B0.shape, W1.shape, B1.shape)\n",
    "\n",
    "W0 = tf.Variable(random_initialize_weights((input_layer_size, hidden_layer_size)))\n",
    "B0 = tf.Variable(random_initialize_weights((1, hidden_layer_size)))\n",
    "\n",
    "W1 = tf.Variable(random_initialize_weights((hidden_layer_size, K)))\n",
    "B1 = tf.Variable(random_initialize_weights((1, K)))\n",
    "\n",
    "X1 = tf.sigmoid(tf.matmul(X, W0) + B0)\n",
    "h = tf.sigmoid(tf.matmul(X1, W1) + B1)\n",
    "\n",
    "cost = tf.log(h)*y + tf.log(1-h)*(1-y)\n",
    "cost = -1/m*tf.reduce_sum(cost)\n",
    "\n",
    "learning_rate = 1\n",
    "iterations = 10\n",
    "\n",
    "train = tf.train.GradientDescentOptimizer(learning_rate=learning_rate).minimize(cost)\n",
    "\n",
    "start_time = time.time()\n",
    "with tf.Session() as s:\n",
    "    s.run(tf.global_variables_initializer())\n",
    "    costs = []\n",
    "    for i in range(iterations):\n",
    "        start_epoch_time = time.time()\n",
    "        _, W0_final, B0_final, W1_final, B1_final, cost_final = s.run([train, W0, B0, W1, B1, cost])\n",
    "        costs.append(cost_final)\n",
    "        end_epoch_time = time.time()\n",
    "        print(f\"Execution Time for epoch {i+1}= {end_epoch_time-start_epoch_time:0.3f} seconds.\")\n",
    "\n",
    "end_time = time.time()\n",
    "print(f\"Total Execution Time = {end_time-start_time:0.3f} seconds.\")\n",
    "\n",
    "plt.plot(costs)\n",
    "plt.show()\n",
    "\n",
    "y_predicted = predict(X, W0_final, B0_final, W1_final, B1_final)\n",
    "\n",
    "a = np.argmax(y, axis=1)\n",
    "b = np.argmax(y_predicted, axis=1)\n",
    "print(f\"Accuracy {np.mean(a == b)*100}\")\n",
    "\n",
    "## For sure, not the execution time :-), but results obtained with Tensorflow are identical\n",
    "## 10.863195489820853 0.2508148687522118 -8.970971198313057 -11.616885840551856\n",
    "print(np.sum(W0_final), np.sum(B0_final), np.sum(W1_final), np.sum(B1_final))"
   ]
  }
 ],
 "metadata": {
  "kernelspec": {
   "display_name": "Python 3",
   "language": "python",
   "name": "python3"
  },
  "language_info": {
   "codemirror_mode": {
    "name": "ipython",
    "version": 3
   },
   "file_extension": ".py",
   "mimetype": "text/x-python",
   "name": "python",
   "nbconvert_exporter": "python",
   "pygments_lexer": "ipython3",
   "version": "3.7.4"
  }
 },
 "nbformat": 4,
 "nbformat_minor": 2
}
